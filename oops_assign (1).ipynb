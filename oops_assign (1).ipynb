{
 "cells": [
  {
   "cell_type": "markdown",
   "id": "f656febf-7d90-4dbe-8019-9d5931acccf5",
   "metadata": {},
   "source": [
    "Q1, Create a vehicle class with an init method having instance variables as name_of_vehicle, max_speed\n",
    "and average_of_vehicle."
   ]
  },
  {
   "cell_type": "code",
   "execution_count": 10,
   "id": "6d1347b5-ec14-4001-b078-f1f38e3d9854",
   "metadata": {},
   "outputs": [],
   "source": [
    "class vehicle:\n",
    "    def __init__(self, name_of_vehicle, max_speed , average_of_vehicle):\n",
    "        self. name_of_vehicle= name_of_vehicle\n",
    "        self. max_speed= max_speed\n",
    "        self.average_of_vehicle=average_of_vehicle"
   ]
  },
  {
   "cell_type": "code",
   "execution_count": 16,
   "id": "306bc827-fb45-41fb-a7bf-9a9a954c63ff",
   "metadata": {},
   "outputs": [],
   "source": [
    "carz=vehicle('lambo',300,100)"
   ]
  },
  {
   "cell_type": "code",
   "execution_count": 17,
   "id": "e88c42dc-b985-4e33-860e-314bc2977324",
   "metadata": {},
   "outputs": [
    {
     "data": {
      "text/plain": [
       "'lambo'"
      ]
     },
     "execution_count": 17,
     "metadata": {},
     "output_type": "execute_result"
    }
   ],
   "source": [
    "carz.name_of_vehicle"
   ]
  },
  {
   "cell_type": "code",
   "execution_count": 18,
   "id": "6b87de70-f3d7-47b0-b347-6d82ba81c1ab",
   "metadata": {},
   "outputs": [
    {
     "data": {
      "text/plain": [
       "300"
      ]
     },
     "execution_count": 18,
     "metadata": {},
     "output_type": "execute_result"
    }
   ],
   "source": [
    "carz.max_speed\n"
   ]
  },
  {
   "cell_type": "code",
   "execution_count": 19,
   "id": "447afd57-ff48-4953-b84a-a46872409c94",
   "metadata": {},
   "outputs": [
    {
     "data": {
      "text/plain": [
       "100"
      ]
     },
     "execution_count": 19,
     "metadata": {},
     "output_type": "execute_result"
    }
   ],
   "source": [
    "carz.average_of_vehicle"
   ]
  },
  {
   "cell_type": "markdown",
   "id": "21bc5a9a-0c92-4a03-b189-74b53a5ed3f7",
   "metadata": {},
   "source": [
    "Q2. Create a child class car from the vehicle class created in Que 1, which will inherit the vehicle class. Create a method named seating_capacity which takes capacity as an argument and returns the name of the vehicle and its seating capacity."
   ]
  },
  {
   "cell_type": "code",
   "execution_count": 30,
   "id": "7c9794e5-da81-459a-9148-c881bbf83ccb",
   "metadata": {},
   "outputs": [],
   "source": [
    "class car(vehicle):\n",
    "    def sitting_capacity(self, capacity):\n",
    "            return f\"The {self.name_of_vehicle} has a seating capacity of {capacity} people.\""
   ]
  },
  {
   "cell_type": "code",
   "execution_count": 32,
   "id": "8740626c-caec-4b86-a1f3-84eb9a18adbb",
   "metadata": {},
   "outputs": [],
   "source": [
    "x=car('lambo',300,100)"
   ]
  },
  {
   "cell_type": "code",
   "execution_count": 33,
   "id": "d471a2a7-ed11-4948-b5d3-b4053f3fdd58",
   "metadata": {},
   "outputs": [
    {
     "data": {
      "text/plain": [
       "'The lambo has a seating capacity of 10 people.'"
      ]
     },
     "execution_count": 33,
     "metadata": {},
     "output_type": "execute_result"
    }
   ],
   "source": [
    "x.sitting_capacity(10)\n"
   ]
  },
  {
   "cell_type": "markdown",
   "id": "297e9769-2f7e-4277-97c9-ee00e987044c",
   "metadata": {},
   "source": [
    "Q3. What is multiple inheritance? Write a python code to demonstrate multiple inheritance."
   ]
  },
  {
   "cell_type": "markdown",
   "id": "67678ba5-da2d-42fc-9901-02e77d97e4ad",
   "metadata": {},
   "source": [
    "The ability of a class to inherit more than one class is called Multiple Inheritance."
   ]
  },
  {
   "cell_type": "code",
   "execution_count": 38,
   "id": "f0864b1f-15d3-4657-81e9-9c9baf244c86",
   "metadata": {},
   "outputs": [],
   "source": [
    "class father:\n",
    "    def abc(self):\n",
    "        \n",
    "        return 'ok i am good'"
   ]
  },
  {
   "cell_type": "code",
   "execution_count": 39,
   "id": "20a2e118-8b35-4c38-a80a-f6616da02ff1",
   "metadata": {},
   "outputs": [],
   "source": [
    "class mother:\n",
    "    def xyz(self):\n",
    "        return 'how are you'"
   ]
  },
  {
   "cell_type": "code",
   "execution_count": 40,
   "id": "978590da-d88e-4a24-89a5-1c4d6d629333",
   "metadata": {},
   "outputs": [],
   "source": [
    "class me(father,mother):\n",
    "    def res(self):\n",
    "        pass"
   ]
  },
  {
   "cell_type": "code",
   "execution_count": 41,
   "id": "b50c5c49-124f-46c5-bebf-7baf7488d261",
   "metadata": {},
   "outputs": [],
   "source": [
    "x=me()"
   ]
  },
  {
   "cell_type": "code",
   "execution_count": 43,
   "id": "c1e65a6a-8b41-44cf-80dd-efe81b4809e0",
   "metadata": {},
   "outputs": [
    {
     "data": {
      "text/plain": [
       "'ok i am good'"
      ]
     },
     "execution_count": 43,
     "metadata": {},
     "output_type": "execute_result"
    }
   ],
   "source": [
    "x.abc()"
   ]
  },
  {
   "cell_type": "code",
   "execution_count": 44,
   "id": "d3002de1-92a8-473b-8ca2-8fd237e368aa",
   "metadata": {},
   "outputs": [
    {
     "data": {
      "text/plain": [
       "'how are you'"
      ]
     },
     "execution_count": 44,
     "metadata": {},
     "output_type": "execute_result"
    }
   ],
   "source": [
    "x.xyz()"
   ]
  },
  {
   "cell_type": "markdown",
   "id": "c7ce0f28-90fc-4dd1-8855-4543ebdc761a",
   "metadata": {},
   "source": [
    "\n",
    "Q4. What are getter and setter in python? Create a class and create a getter and a setter method in this\n",
    "class."
   ]
  },
  {
   "cell_type": "markdown",
   "id": "04171eb8-966c-42e7-b6c6-38c923253022",
   "metadata": {},
   "source": [
    "Getters and setters are used to control the access and modification of class attributes. They help maintain data integrity by providing controlled access to the attributes of a class. Although Python does not enforce private variables, using getters and setters can provide a way to ensure controlled access to attributes."
   ]
  },
  {
   "cell_type": "code",
   "execution_count": 45,
   "id": "66b6d930-2712-4809-874c-2491fbf24af9",
   "metadata": {},
   "outputs": [],
   "source": [
    "class MyClass:\n",
    "    def __init__(self, value):\n",
    "        self._value = value  # prefixing with an underscore indicates that this is a protected variable\n",
    "\n",
    "    # Getter method\n",
    "    def get_value(self):\n",
    "        return self._value\n",
    "\n",
    "    # Setter method\n",
    "    def set_value(self, new_value):\n",
    "        self._value = new_value\n",
    "        "
   ]
  },
  {
   "cell_type": "code",
   "execution_count": 47,
   "id": "aef9cc36-3698-45d3-bfb2-e90ef7c7e24c",
   "metadata": {},
   "outputs": [],
   "source": [
    "x=MyClass(8)"
   ]
  },
  {
   "cell_type": "code",
   "execution_count": 49,
   "id": "9d4ec27f-680f-4d3a-ae27-1f88538412ca",
   "metadata": {},
   "outputs": [
    {
     "data": {
      "text/plain": [
       "8"
      ]
     },
     "execution_count": 49,
     "metadata": {},
     "output_type": "execute_result"
    }
   ],
   "source": [
    "x.get_value()"
   ]
  },
  {
   "cell_type": "code",
   "execution_count": 51,
   "id": "815a8fe6-cb2b-4bce-ad84-b78822903577",
   "metadata": {},
   "outputs": [],
   "source": [
    "x.set_value(9)"
   ]
  },
  {
   "cell_type": "code",
   "execution_count": 52,
   "id": "b252332d-d983-4dcb-87e1-edc82afd4abe",
   "metadata": {},
   "outputs": [
    {
     "data": {
      "text/plain": [
       "9"
      ]
     },
     "execution_count": 52,
     "metadata": {},
     "output_type": "execute_result"
    }
   ],
   "source": [
    "x.get_value()"
   ]
  },
  {
   "cell_type": "markdown",
   "id": "c6bda604-e6c3-459d-b73b-8dbecb95de4a",
   "metadata": {},
   "source": [
    "Q5.What is method overriding in python? Write a python code to demonstrate method overriding."
   ]
  },
  {
   "cell_type": "markdown",
   "id": "eb405a8b-12fb-4950-9fa7-40eb9dbc3a33",
   "metadata": {},
   "source": [
    "whenever we write method name with same signature with parent and child class called method overloadig."
   ]
  },
  {
   "cell_type": "code",
   "execution_count": 53,
   "id": "70378690-40c6-48c7-838c-2dfcca071ced",
   "metadata": {},
   "outputs": [
    {
     "name": "stdout",
     "output_type": "stream",
     "text": [
      "Some sound\n",
      "Bark\n"
     ]
    }
   ],
   "source": [
    "class Animal:\n",
    "    def sound(self):\n",
    "        print(\"Some sound\")\n",
    "\n",
    "\n",
    "class Dog(Animal):\n",
    "    def sound(self):\n",
    "        print(\"Bark\")\n",
    "\n",
    "\n",
    "# Creating instances of both classes\n",
    "animal = Animal()\n",
    "dog = Dog()\n",
    "\n",
    "# Calling the sound method on both instances\n",
    "animal.sound()  # Output: Some sound\n",
    "dog.sound()  # Output: Bark\n"
   ]
  },
  {
   "cell_type": "code",
   "execution_count": null,
   "id": "35dcfc8d-7ab3-4401-8160-0ffac88edbd1",
   "metadata": {},
   "outputs": [],
   "source": []
  }
 ],
 "metadata": {
  "kernelspec": {
   "display_name": "Python 3 (ipykernel)",
   "language": "python",
   "name": "python3"
  },
  "language_info": {
   "codemirror_mode": {
    "name": "ipython",
    "version": 3
   },
   "file_extension": ".py",
   "mimetype": "text/x-python",
   "name": "python",
   "nbconvert_exporter": "python",
   "pygments_lexer": "ipython3",
   "version": "3.10.8"
  }
 },
 "nbformat": 4,
 "nbformat_minor": 5
}
